{
 "cells": [
  {
   "cell_type": "code",
   "execution_count": 1,
   "metadata": {},
   "outputs": [],
   "source": [
    "import requests\n",
    "import asyncio\n",
    "import warnings\n",
    "import time\n",
    "from bs4 import BeautifulSoup as bs4\n",
    "from requests_html import AsyncHTMLSession \n",
    "\n",
    "warnings.filterwarnings('ignore')\n",
    "session = AsyncHTMLSession()\n",
    "\n",
    "def bot_message(message):\n",
    "    token = ''\n",
    "    chat_id = ''\n",
    "    url = 'https://api.telegram.org/bot{}/sendMessage?chat_id={}&text={}'\n",
    "    requests.post(url.format(token,chat_id,message))"
   ]
  },
  {
   "cell_type": "code",
   "execution_count": 2,
   "metadata": {},
   "outputs": [],
   "source": [
    "while True:\n",
    "    temp = []\n",
    "    temp2 = []\n",
    "    for i in range(1, 4):\n",
    "        try:\n",
    "            res = await session.get(url = 'https://www.technodom.kz/astana/vsjo-dlja-gejmerov/igry-dlja-pristavok/igry-nintendo?page=' + str(i))\n",
    "            while True:\n",
    "                if res.status_code == 200:\n",
    "                    break\n",
    "            await res.html.arender()\n",
    "            soup = bs4(res.html.raw_html, 'lxml')\n",
    "            for i in soup.find_all('h4'):\n",
    "                if len(i.text) > 0:\n",
    "                    temp.append(i.text.replace('Игра для Nintendo ', ''))\n",
    "            for i in soup.find_all('data'):\n",
    "                if i.text != '0':\n",
    "                    temp2.append(i.text)\n",
    "        except Exception as e:\n",
    "            continue\n",
    "\n",
    "\n",
    "    prices = dict(zip(temp, temp2))\n",
    "    printData = ''\n",
    "    for i in prices.keys():\n",
    "        printData += f'{i}:   {prices[i]}' + '\\n'\n",
    "    bot_message(printData)\n",
    "    time.sleep(60*60*12)"
   ]
  },
  {
   "cell_type": "code",
   "execution_count": 3,
   "metadata": {},
   "outputs": [
    {
     "data": {
      "text/plain": [
       "{'Ring Fit Adventure (45496424978)': '19 990 ₸',\n",
       " 'New Super Mario Bros. U Deluxe NS': '9 990 ₸',\n",
       " 'Metroid Dread (045496428440)': '26 990 ₸',\n",
       " 'The Legend of Zelda: Skyward Sword HD (45496427788)': '25 990 ₸',\n",
       " 'SnowRunner (3512899123571)': '19 990 ₸',\n",
       " 'Animal Crossing: New Horizons': '21 990 ₸',\n",
       " 'FIFA 22': '30 590 ₸',\n",
       " 'Switch Harvest Moon: One World (45496426484)': '4 990 ₸',\n",
       " \"The Legend of Zelda: Link's Awakening NS\": '22 990 ₸',\n",
       " 'Mario Golf: Super Rush (45496427764)': '23 990 ₸',\n",
       " 'Mario Party Superstars (45496428631)': '26 990 ₸',\n",
       " 'New Pokemon Snap (45496427320)': '14 990 ₸',\n",
       " 'Bravely Default II (045496426149)': '9 990 ₸',\n",
       " 'Minecraft Dungeons Ultimate Edition (45496429096)': '23 990 ₸',\n",
       " 'Mario Kart Live: Home Circuit набор Luigi (45496426279)': '39 990 ₸',\n",
       " 'Pokemon Brilliand Diamond & Shining Pearl Dual Pack (45496428372)': '49 990 ₸',\n",
       " 'Pokemon Shining Pearl (45496428150)': '25 990 ₸',\n",
       " 'Pokemon Brilliant Diamond (45496428051)': '25 990 ₸',\n",
       " 'Miitopia (45496427610)': '17 990 ₸',\n",
       " 'Shin Megami Tensei V (45496428822)': '25 990 ₸',\n",
       " 'DC Super Hero Girls: Teen Power (45496427542)': '23 990 ₸',\n",
       " 'Monster Hunter Stories 2: Wings of Ruin (45496427863)': '31 990 ₸',\n",
       " 'WarioWare: Get It Together! (045496428716)': '19 990 ₸',\n",
       " 'No More Heroes 3 (045496427474)': '26 990 ₸',\n",
       " 'Mortal Kombat 11 NS': '1 990 ₸',\n",
       " 'The Legend of Zelda Breath of the Wild NS': '25 990 ₸',\n",
       " 'NBA 2K21 (5026555069069)': '990 ₸',\n",
       " '9 Monkeys of Shaolin (4020628742713)': '990 ₸',\n",
       " 'Deadly Premonition 2: A Blessing in Disguise (45496423605)': '990 ₸',\n",
       " 'Minecraft Dungeons (45496426163)': '990 ₸',\n",
       " 'Spyro Reignited Trilogy (5030917284540)': '990 ₸',\n",
       " 'Pokemon Shield (45496424893)': '1 990 ₸',\n",
       " 'Xenoblade Chronicles: Definitive Edition (45496425807)': '1 990 ₸',\n",
       " 'Ведьмак 3 Дикая охота NS': '4 990 ₸',\n",
       " 'Switch Hades Collectors Edition (45496427429)': '9 990 ₸',\n",
       " \"Crash Bandicoot N'sane Trilogy (5030917236730)\": '14 990 ₸',\n",
       " 'Pokemon Sword + Expansion Pass (45496426743)': '19 990 ₸',\n",
       " 'Pokemon Sword (45496424886)': '21 990 ₸',\n",
       " 'Bayonetta 2 (45496423841)': '22 990 ₸',\n",
       " \"Luigi's Mansion 3\": '23 990 ₸'}"
      ]
     },
     "execution_count": 3,
     "metadata": {},
     "output_type": "execute_result"
    }
   ],
   "source": [
    "prices"
   ]
  },
  {
   "cell_type": "code",
   "execution_count": 7,
   "metadata": {},
   "outputs": [],
   "source": [
    "import csv\n",
    "from datetime import datetime\n",
    "\n",
    "fieldnames = ['Game', 'Price', 'Date']\n",
    "\n",
    "with open('NintendoTechoPrices.csv', 'w', encoding = 'utf-8') as f:\n",
    "    w = csv.DictWriter(f, fieldnames = fieldnames)\n",
    "    w.writeheader()\n",
    "    for i in prices.keys():\n",
    "        w.writerow({'Game': i, 'Price': prices[i], 'Date': now.strftime(\"%m/%d/%Y\")})"
   ]
  }
 ],
 "metadata": {
  "kernelspec": {
   "display_name": "Python 3",
   "language": "python",
   "name": "python3"
  },
  "language_info": {
   "codemirror_mode": {
    "name": "ipython",
    "version": 3
   },
   "file_extension": ".py",
   "mimetype": "text/x-python",
   "name": "python",
   "nbconvert_exporter": "python",
   "pygments_lexer": "ipython3",
   "version": "3.8.3"
  }
 },
 "nbformat": 4,
 "nbformat_minor": 4
}
